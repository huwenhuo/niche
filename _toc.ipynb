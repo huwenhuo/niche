{
 "cells": [
  {
   "cell_type": "markdown",
   "id": "b37d01e0-1540-40cb-a1e3-5052fc386b97",
   "metadata": {},
   "source": [
    "- the original code /home/whu78/script/JinWang/\n",
    "- the origianl working folder /research_jude/rgs01_jude/groups/jxugrp/home/common/Lab_Members/WenhuoHu/collab_JinWang\n",
    "- the original data folder /research_jude/rgs01_jude/groups/jxugrp/home/common/Lab_Members/WenhuoHu/collab_JinWang/data"
   ]
  },
  {
   "cell_type": "markdown",
   "id": "ddc8f249-b0cc-4afd-8f38-d3ab5c134c51",
   "metadata": {},
   "source": [
    "# Install env and packages"
   ]
  },
  {
   "cell_type": "code",
   "execution_count": null,
   "id": "5d3dae4a-7f0c-4570-b85a-b8b35f76ab5b",
   "metadata": {},
   "outputs": [],
   "source": [
    "# in case need to create a new env\n",
    "! conda create -n mar25 python=3.10 scanpy muon pandas numpy seaborn scvi scrublet bbknn snapatac2 celltypist itables -c conda-forge\n",
    "! conda activate mar25\n",
    "! conda install jupyterlab notebook ipykernel\n",
    "! python -m ipykernel install --user --name=mar25\n",
    "# this need to install after activate new env to adapt with the R in the same env\n",
    "! conda install rpy2 \n",
    "! pip install pysam \n",
    "! conda install r-irkernel\n",
    "! R -e \"IRkernel::installspec(name = 'mar25R', displayname = 'mar25R')\"\n",
    "! conda install -c conda-forge r-seurat r-signac\n"
   ]
  },
  {
   "cell_type": "code",
   "execution_count": null,
   "id": "8f9ff2ae-9464-494b-ac5b-c1aa2a5c1ede",
   "metadata": {},
   "outputs": [],
   "source": [
    "! conda install -c bioconda -c conda-forge r-dplyr r-data.table r-ggplot2 r-gridExtra r-irkernel r-anndata \\\n",
    "bioconductor-ChIPseeker bioconductor-TxDb.Hsapiens.UCSC.hg38.knownGene bioconductor-EnsDb.Hsapiens.v75 \\\n",
    "bioconductor-clusterProfiler bioconductor-AnnotationDbi bioconductor-org.Hs.eg.db bioconductor-ChIPpeakAnno \\\n",
    "bioconductor-StructuralVariantAnnotation bioconductor-SingleCellExperiment r-anndata bioconductor-scDblFinder pysam "
   ]
  },
  {
   "cell_type": "code",
   "execution_count": null,
   "id": "273a9f77-1b0c-4818-b9af-209888be6f88",
   "metadata": {},
   "outputs": [],
   "source": [
    "! conda install -y -c conda-forge r-hdf5r\n",
    "! conda install -y -c conda-forge r-SeuratDisk\n",
    "! conda install -y -c conda-forge -c bioconda bioconductor-glmGamPoi \n",
    "! conda install bioconda::bioconductor-ensdb.mmusculus.v79\n",
    "! conda install bioconda::bioconductor-TxDb.Mmusculus.UCSC.mm10.knownGene\n",
    "! conda install bioconda::bioconductor-ChIPseeker \n",
    "! conda install -y -c bioconda -c conda-forge bioconductor-biovizbase\n",
    "! conda install -y -c bioconda -c conda-forge r-eulerr\n",
    "! conda install -y -c bioconda -c conda-forge bioconductor-org.Mm.eg.db\n"
   ]
  },
  {
   "cell_type": "markdown",
   "id": "0d5c0e50-e4f8-4625-8a30-a4ff6ff7d5f7",
   "metadata": {},
   "source": [
    "# [Import data and perform pre-process: Python](nb_niche_step0.ipynb)\n"
   ]
  },
  {
   "cell_type": "markdown",
   "id": "2c0f0e40-e946-4df0-b6d6-59cde02e3f16",
   "metadata": {},
   "source": [
    "- import all cells\n",
    "- remove low quality cells\n",
    "- remove doublets\n",
    "- performed simple analysis\n",
    "- merged all RNA-Seq samples \n",
    "- export 34274 cells: data/adata_sel_udpate_may07.h5ad"
   ]
  },
  {
   "cell_type": "markdown",
   "id": "28c66794-da4f-4b5d-81c4-312b742c4a25",
   "metadata": {},
   "source": [
    "# [Refine MSC scRNA-Seq: Python](nb_niche_step_11.ipynb) \n"
   ]
  },
  {
   "cell_type": "markdown",
   "id": "0372eb08-bc81-46eb-97b5-aa5357047702",
   "metadata": {},
   "source": [
    "- export 3904 MSC cells: data/msc_rna_2_may23.h5ad"
   ]
  },
  {
   "cell_type": "markdown",
   "id": "9a4f78e1-cf7a-467d-9f7b-7531a40eed9c",
   "metadata": {},
   "source": [
    "# [A quick demo: MSC cell gene expression and chromosomal changes in leukemic development](nb_niche_step_msc_demo.ipynb)\n"
   ]
  },
  {
   "cell_type": "markdown",
   "id": "6eb67311-ed55-46f1-ac69-1ab6d51834c7",
   "metadata": {},
   "source": [
    "# [A runnable demo: MSC cell gene expression and chromosomal changes in leukemic development](nb_niche_step_msc.ipynb)"
   ]
  },
  {
   "cell_type": "markdown",
   "id": "cc426bb2-4c3c-4f88-9351-c6bda9f7ef46",
   "metadata": {},
   "source": [
    "- Focused on both gene expression and chromosomal status changes in MSC cells.\n",
    "- scRNA-Seq and scATAC-Seq data process start from raw data. \n",
    "- for a quick run, you can start from the sections:\n",
    "   - re-organize RNASeq datasets\n",
    "   - re-organize ATAC-Seq data\n",
    "- MSC cell IDs based on scRNASeq were imported from data/msc_rna_2_may23.h5ad as reference. \n",
    "- Seven MSC cell populations were identified based on scRNA-Seq analysis.\n",
    "- Identified top gene expression changes across these 7 cell populations.\n",
    "- Analyzed chromosomal status for these top genes based on the same cells from scRNA-Seq analysis."
   ]
  },
  {
   "cell_type": "markdown",
   "id": "3f8a4f80-0942-4cb2-b142-5409430d0788",
   "metadata": {},
   "source": [
    "# [cell cell interaction analysis using liana (R)](nb_niche_step22_ccc.ipynb)"
   ]
  }
 ],
 "metadata": {
  "kernelspec": {
   "display_name": "mar25",
   "language": "python",
   "name": "mar25"
  },
  "language_info": {
   "codemirror_mode": {
    "name": "ipython",
    "version": 3
   },
   "file_extension": ".py",
   "mimetype": "text/x-python",
   "name": "python",
   "nbconvert_exporter": "python",
   "pygments_lexer": "ipython3",
   "version": "3.10.16"
  }
 },
 "nbformat": 4,
 "nbformat_minor": 5
}
